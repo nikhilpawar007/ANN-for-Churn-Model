{
  "nbformat": 4,
  "nbformat_minor": 0,
  "metadata": {
    "colab": {
      "name": "Deep_Learning_1.ipynb",
      "provenance": []
    },
    "kernelspec": {
      "name": "python3",
      "display_name": "Python 3"
    },
    "language_info": {
      "name": "python"
    }
  },
  "cells": [
    {
      "cell_type": "code",
      "metadata": {
        "id": "B_qBfba1G6he"
      },
      "source": [
        "import numpy as np\n",
        "import pandas as pd\n",
        "import matplotlib.pyplot as plt"
      ],
      "execution_count": null,
      "outputs": []
    },
    {
      "cell_type": "code",
      "metadata": {
        "colab": {
          "base_uri": "https://localhost:8080/",
          "height": 204
        },
        "id": "KK4TdcrYJPJL",
        "outputId": "05101198-120b-4c49-b83c-66e0fdbd7bae"
      },
      "source": [
        "dataset = pd.read_csv('/content/sample_data/Churn_Modelling.csv')\n",
        "dataset.tail()"
      ],
      "execution_count": null,
      "outputs": [
        {
          "output_type": "execute_result",
          "data": {
            "text/html": [
              "<div>\n",
              "<style scoped>\n",
              "    .dataframe tbody tr th:only-of-type {\n",
              "        vertical-align: middle;\n",
              "    }\n",
              "\n",
              "    .dataframe tbody tr th {\n",
              "        vertical-align: top;\n",
              "    }\n",
              "\n",
              "    .dataframe thead th {\n",
              "        text-align: right;\n",
              "    }\n",
              "</style>\n",
              "<table border=\"1\" class=\"dataframe\">\n",
              "  <thead>\n",
              "    <tr style=\"text-align: right;\">\n",
              "      <th></th>\n",
              "      <th>RowNumber</th>\n",
              "      <th>CustomerId</th>\n",
              "      <th>Surname</th>\n",
              "      <th>CreditScore</th>\n",
              "      <th>Geography</th>\n",
              "      <th>Gender</th>\n",
              "      <th>Age</th>\n",
              "      <th>Tenure</th>\n",
              "      <th>Balance</th>\n",
              "      <th>NumOfProducts</th>\n",
              "      <th>HasCrCard</th>\n",
              "      <th>IsActiveMember</th>\n",
              "      <th>EstimatedSalary</th>\n",
              "      <th>Exited</th>\n",
              "    </tr>\n",
              "  </thead>\n",
              "  <tbody>\n",
              "    <tr>\n",
              "      <th>9995</th>\n",
              "      <td>9996</td>\n",
              "      <td>15606229</td>\n",
              "      <td>Obijiaku</td>\n",
              "      <td>771</td>\n",
              "      <td>France</td>\n",
              "      <td>Male</td>\n",
              "      <td>39</td>\n",
              "      <td>5</td>\n",
              "      <td>0.00</td>\n",
              "      <td>2</td>\n",
              "      <td>1</td>\n",
              "      <td>0</td>\n",
              "      <td>96270.64</td>\n",
              "      <td>0</td>\n",
              "    </tr>\n",
              "    <tr>\n",
              "      <th>9996</th>\n",
              "      <td>9997</td>\n",
              "      <td>15569892</td>\n",
              "      <td>Johnstone</td>\n",
              "      <td>516</td>\n",
              "      <td>France</td>\n",
              "      <td>Male</td>\n",
              "      <td>35</td>\n",
              "      <td>10</td>\n",
              "      <td>57369.61</td>\n",
              "      <td>1</td>\n",
              "      <td>1</td>\n",
              "      <td>1</td>\n",
              "      <td>101699.77</td>\n",
              "      <td>0</td>\n",
              "    </tr>\n",
              "    <tr>\n",
              "      <th>9997</th>\n",
              "      <td>9998</td>\n",
              "      <td>15584532</td>\n",
              "      <td>Liu</td>\n",
              "      <td>709</td>\n",
              "      <td>France</td>\n",
              "      <td>Female</td>\n",
              "      <td>36</td>\n",
              "      <td>7</td>\n",
              "      <td>0.00</td>\n",
              "      <td>1</td>\n",
              "      <td>0</td>\n",
              "      <td>1</td>\n",
              "      <td>42085.58</td>\n",
              "      <td>1</td>\n",
              "    </tr>\n",
              "    <tr>\n",
              "      <th>9998</th>\n",
              "      <td>9999</td>\n",
              "      <td>15682355</td>\n",
              "      <td>Sabbatini</td>\n",
              "      <td>772</td>\n",
              "      <td>Germany</td>\n",
              "      <td>Male</td>\n",
              "      <td>42</td>\n",
              "      <td>3</td>\n",
              "      <td>75075.31</td>\n",
              "      <td>2</td>\n",
              "      <td>1</td>\n",
              "      <td>0</td>\n",
              "      <td>92888.52</td>\n",
              "      <td>1</td>\n",
              "    </tr>\n",
              "    <tr>\n",
              "      <th>9999</th>\n",
              "      <td>10000</td>\n",
              "      <td>15628319</td>\n",
              "      <td>Walker</td>\n",
              "      <td>792</td>\n",
              "      <td>France</td>\n",
              "      <td>Female</td>\n",
              "      <td>28</td>\n",
              "      <td>4</td>\n",
              "      <td>130142.79</td>\n",
              "      <td>1</td>\n",
              "      <td>1</td>\n",
              "      <td>0</td>\n",
              "      <td>38190.78</td>\n",
              "      <td>0</td>\n",
              "    </tr>\n",
              "  </tbody>\n",
              "</table>\n",
              "</div>"
            ],
            "text/plain": [
              "      RowNumber  CustomerId    Surname  ...  IsActiveMember EstimatedSalary Exited\n",
              "9995       9996    15606229   Obijiaku  ...               0        96270.64      0\n",
              "9996       9997    15569892  Johnstone  ...               1       101699.77      0\n",
              "9997       9998    15584532        Liu  ...               1        42085.58      1\n",
              "9998       9999    15682355  Sabbatini  ...               0        92888.52      1\n",
              "9999      10000    15628319     Walker  ...               0        38190.78      0\n",
              "\n",
              "[5 rows x 14 columns]"
            ]
          },
          "metadata": {
            "tags": []
          },
          "execution_count": 3
        }
      ]
    },
    {
      "cell_type": "code",
      "metadata": {
        "id": "f3nc4OdjJWav"
      },
      "source": [
        "x = dataset.iloc[:, 3:13]\n",
        "y = dataset.iloc[:,-1]"
      ],
      "execution_count": null,
      "outputs": []
    },
    {
      "cell_type": "code",
      "metadata": {
        "id": "7Clta3QUKTw-"
      },
      "source": [
        "geography = pd.get_dummies(x.Geography, drop_first=True)\n",
        "gender = pd.get_dummies(x.Gender, drop_first=True)"
      ],
      "execution_count": null,
      "outputs": []
    },
    {
      "cell_type": "code",
      "metadata": {
        "colab": {
          "base_uri": "https://localhost:8080/",
          "height": 204
        },
        "id": "FyDJbWmnKgOt",
        "outputId": "e4915feb-62ce-403a-da39-dadfddfd0a7c"
      },
      "source": [
        "x = pd.concat([x, geography, gender], axis=1)\n",
        "x.drop(['Geography','Gender'], axis=1, inplace=True)\n",
        "x.tail()"
      ],
      "execution_count": null,
      "outputs": [
        {
          "output_type": "execute_result",
          "data": {
            "text/html": [
              "<div>\n",
              "<style scoped>\n",
              "    .dataframe tbody tr th:only-of-type {\n",
              "        vertical-align: middle;\n",
              "    }\n",
              "\n",
              "    .dataframe tbody tr th {\n",
              "        vertical-align: top;\n",
              "    }\n",
              "\n",
              "    .dataframe thead th {\n",
              "        text-align: right;\n",
              "    }\n",
              "</style>\n",
              "<table border=\"1\" class=\"dataframe\">\n",
              "  <thead>\n",
              "    <tr style=\"text-align: right;\">\n",
              "      <th></th>\n",
              "      <th>CreditScore</th>\n",
              "      <th>Age</th>\n",
              "      <th>Tenure</th>\n",
              "      <th>Balance</th>\n",
              "      <th>NumOfProducts</th>\n",
              "      <th>HasCrCard</th>\n",
              "      <th>IsActiveMember</th>\n",
              "      <th>EstimatedSalary</th>\n",
              "      <th>Germany</th>\n",
              "      <th>Spain</th>\n",
              "      <th>Male</th>\n",
              "    </tr>\n",
              "  </thead>\n",
              "  <tbody>\n",
              "    <tr>\n",
              "      <th>9995</th>\n",
              "      <td>771</td>\n",
              "      <td>39</td>\n",
              "      <td>5</td>\n",
              "      <td>0.00</td>\n",
              "      <td>2</td>\n",
              "      <td>1</td>\n",
              "      <td>0</td>\n",
              "      <td>96270.64</td>\n",
              "      <td>0</td>\n",
              "      <td>0</td>\n",
              "      <td>1</td>\n",
              "    </tr>\n",
              "    <tr>\n",
              "      <th>9996</th>\n",
              "      <td>516</td>\n",
              "      <td>35</td>\n",
              "      <td>10</td>\n",
              "      <td>57369.61</td>\n",
              "      <td>1</td>\n",
              "      <td>1</td>\n",
              "      <td>1</td>\n",
              "      <td>101699.77</td>\n",
              "      <td>0</td>\n",
              "      <td>0</td>\n",
              "      <td>1</td>\n",
              "    </tr>\n",
              "    <tr>\n",
              "      <th>9997</th>\n",
              "      <td>709</td>\n",
              "      <td>36</td>\n",
              "      <td>7</td>\n",
              "      <td>0.00</td>\n",
              "      <td>1</td>\n",
              "      <td>0</td>\n",
              "      <td>1</td>\n",
              "      <td>42085.58</td>\n",
              "      <td>0</td>\n",
              "      <td>0</td>\n",
              "      <td>0</td>\n",
              "    </tr>\n",
              "    <tr>\n",
              "      <th>9998</th>\n",
              "      <td>772</td>\n",
              "      <td>42</td>\n",
              "      <td>3</td>\n",
              "      <td>75075.31</td>\n",
              "      <td>2</td>\n",
              "      <td>1</td>\n",
              "      <td>0</td>\n",
              "      <td>92888.52</td>\n",
              "      <td>1</td>\n",
              "      <td>0</td>\n",
              "      <td>1</td>\n",
              "    </tr>\n",
              "    <tr>\n",
              "      <th>9999</th>\n",
              "      <td>792</td>\n",
              "      <td>28</td>\n",
              "      <td>4</td>\n",
              "      <td>130142.79</td>\n",
              "      <td>1</td>\n",
              "      <td>1</td>\n",
              "      <td>0</td>\n",
              "      <td>38190.78</td>\n",
              "      <td>0</td>\n",
              "      <td>0</td>\n",
              "      <td>0</td>\n",
              "    </tr>\n",
              "  </tbody>\n",
              "</table>\n",
              "</div>"
            ],
            "text/plain": [
              "      CreditScore  Age  Tenure  ...  Germany  Spain  Male\n",
              "9995          771   39       5  ...        0      0     1\n",
              "9996          516   35      10  ...        0      0     1\n",
              "9997          709   36       7  ...        0      0     0\n",
              "9998          772   42       3  ...        1      0     1\n",
              "9999          792   28       4  ...        0      0     0\n",
              "\n",
              "[5 rows x 11 columns]"
            ]
          },
          "metadata": {
            "tags": []
          },
          "execution_count": 6
        }
      ]
    },
    {
      "cell_type": "code",
      "metadata": {
        "id": "54DJ2AVJMaSf"
      },
      "source": [
        "from sklearn.model_selection import train_test_split\n",
        "x_train,x_test,y_train,y_test = train_test_split(x,y,test_size=0.2)"
      ],
      "execution_count": null,
      "outputs": []
    },
    {
      "cell_type": "code",
      "metadata": {
        "id": "UDqolJ-FNmxc"
      },
      "source": [
        "from sklearn.preprocessing import StandardScaler\n",
        "sc = StandardScaler()\n",
        "x_train = sc.fit_transform(x_train)\n",
        "x_test = sc.transform(x_test)\n",
        "\n"
      ],
      "execution_count": null,
      "outputs": []
    },
    {
      "cell_type": "code",
      "metadata": {
        "id": "WvTUqLGzSdzg"
      },
      "source": [
        "import keras\n",
        "from keras.models import Sequential\n",
        "from keras.layers import Dense\n",
        "from keras.layers import ReLU,LeakyReLU,ELU,Dropout\n"
      ],
      "execution_count": null,
      "outputs": []
    },
    {
      "cell_type": "code",
      "metadata": {
        "id": "zQq_lEHeU3UL"
      },
      "source": [
        "classifier = Sequential()"
      ],
      "execution_count": null,
      "outputs": []
    },
    {
      "cell_type": "code",
      "metadata": {
        "colab": {
          "base_uri": "https://localhost:8080/"
        },
        "id": "Ec_hQ081U-1a",
        "outputId": "346ba699-e208-4651-f8df-ab9d0f0c8d6c"
      },
      "source": [
        "classifier.add(Dense(6, kernel_initializer='he_uniform', activation='relu', input_dim=11))\n",
        "classifier.add(Dense(6, kernel_initializer='he_uniform', activation='relu'))\n",
        "classifier.add(Dense(1, kernel_initializer = 'glorot_uniform', activation='sigmoid'))\n",
        "\n",
        "classifier.compile(optimizer='Adamax', loss='binary_crossentropy', metrics=['accuracy'])\n",
        "\n",
        "model_history = classifier.fit(x_train,y_train,validation_split=0.3, batch_size=10, epochs= 100)"
      ],
      "execution_count": null,
      "outputs": [
        {
          "output_type": "stream",
          "text": [
            "Epoch 1/100\n",
            "560/560 [==============================] - 15s 2ms/step - loss: 0.6699 - accuracy: 0.7057 - val_loss: 0.5752 - val_accuracy: 0.7663\n",
            "Epoch 2/100\n",
            "560/560 [==============================] - 1s 2ms/step - loss: 0.5751 - accuracy: 0.7614 - val_loss: 0.5224 - val_accuracy: 0.7904\n",
            "Epoch 3/100\n",
            "560/560 [==============================] - 1s 2ms/step - loss: 0.5232 - accuracy: 0.7841 - val_loss: 0.4939 - val_accuracy: 0.7933\n",
            "Epoch 4/100\n",
            "560/560 [==============================] - 1s 2ms/step - loss: 0.4926 - accuracy: 0.7972 - val_loss: 0.4767 - val_accuracy: 0.7983\n",
            "Epoch 5/100\n",
            "560/560 [==============================] - 1s 2ms/step - loss: 0.4880 - accuracy: 0.7847 - val_loss: 0.4655 - val_accuracy: 0.7983\n",
            "Epoch 6/100\n",
            "560/560 [==============================] - 1s 2ms/step - loss: 0.4653 - accuracy: 0.7978 - val_loss: 0.4575 - val_accuracy: 0.7987\n",
            "Epoch 7/100\n",
            "560/560 [==============================] - 1s 2ms/step - loss: 0.4607 - accuracy: 0.7924 - val_loss: 0.4514 - val_accuracy: 0.7983\n",
            "Epoch 8/100\n",
            "560/560 [==============================] - 1s 2ms/step - loss: 0.4677 - accuracy: 0.7924 - val_loss: 0.4469 - val_accuracy: 0.7979\n",
            "Epoch 9/100\n",
            "560/560 [==============================] - 1s 2ms/step - loss: 0.4618 - accuracy: 0.7925 - val_loss: 0.4434 - val_accuracy: 0.8021\n",
            "Epoch 10/100\n",
            "560/560 [==============================] - 1s 2ms/step - loss: 0.4466 - accuracy: 0.7957 - val_loss: 0.4406 - val_accuracy: 0.8012\n",
            "Epoch 11/100\n",
            "560/560 [==============================] - 1s 2ms/step - loss: 0.4407 - accuracy: 0.8032 - val_loss: 0.4385 - val_accuracy: 0.8033\n",
            "Epoch 12/100\n",
            "560/560 [==============================] - 1s 2ms/step - loss: 0.4445 - accuracy: 0.8014 - val_loss: 0.4368 - val_accuracy: 0.8037\n",
            "Epoch 13/100\n",
            "560/560 [==============================] - 1s 2ms/step - loss: 0.4544 - accuracy: 0.7999 - val_loss: 0.4353 - val_accuracy: 0.8025\n",
            "Epoch 14/100\n",
            "560/560 [==============================] - 1s 2ms/step - loss: 0.4423 - accuracy: 0.8023 - val_loss: 0.4338 - val_accuracy: 0.8029\n",
            "Epoch 15/100\n",
            "560/560 [==============================] - 1s 2ms/step - loss: 0.4418 - accuracy: 0.8036 - val_loss: 0.4325 - val_accuracy: 0.8054\n",
            "Epoch 16/100\n",
            "560/560 [==============================] - 1s 2ms/step - loss: 0.4374 - accuracy: 0.8040 - val_loss: 0.4314 - val_accuracy: 0.8087\n",
            "Epoch 17/100\n",
            "560/560 [==============================] - 1s 2ms/step - loss: 0.4352 - accuracy: 0.8041 - val_loss: 0.4303 - val_accuracy: 0.8100\n",
            "Epoch 18/100\n",
            "560/560 [==============================] - 1s 2ms/step - loss: 0.4339 - accuracy: 0.8038 - val_loss: 0.4293 - val_accuracy: 0.8104\n",
            "Epoch 19/100\n",
            "560/560 [==============================] - 1s 2ms/step - loss: 0.4309 - accuracy: 0.8109 - val_loss: 0.4284 - val_accuracy: 0.8112\n",
            "Epoch 20/100\n",
            "560/560 [==============================] - 1s 2ms/step - loss: 0.4331 - accuracy: 0.8051 - val_loss: 0.4275 - val_accuracy: 0.8100\n",
            "Epoch 21/100\n",
            "560/560 [==============================] - 1s 2ms/step - loss: 0.4288 - accuracy: 0.8093 - val_loss: 0.4268 - val_accuracy: 0.8104\n",
            "Epoch 22/100\n",
            "560/560 [==============================] - 1s 2ms/step - loss: 0.4283 - accuracy: 0.8090 - val_loss: 0.4261 - val_accuracy: 0.8112\n",
            "Epoch 23/100\n",
            "560/560 [==============================] - 1s 2ms/step - loss: 0.4227 - accuracy: 0.8121 - val_loss: 0.4254 - val_accuracy: 0.8108\n",
            "Epoch 24/100\n",
            "560/560 [==============================] - 1s 2ms/step - loss: 0.4170 - accuracy: 0.8149 - val_loss: 0.4248 - val_accuracy: 0.8125\n",
            "Epoch 25/100\n",
            "560/560 [==============================] - 1s 2ms/step - loss: 0.4143 - accuracy: 0.8134 - val_loss: 0.4240 - val_accuracy: 0.8125\n",
            "Epoch 26/100\n",
            "560/560 [==============================] - 1s 2ms/step - loss: 0.4254 - accuracy: 0.8148 - val_loss: 0.4234 - val_accuracy: 0.8108\n",
            "Epoch 27/100\n",
            "560/560 [==============================] - 1s 2ms/step - loss: 0.4225 - accuracy: 0.8084 - val_loss: 0.4226 - val_accuracy: 0.8112\n",
            "Epoch 28/100\n",
            "560/560 [==============================] - 1s 2ms/step - loss: 0.4263 - accuracy: 0.8034 - val_loss: 0.4217 - val_accuracy: 0.8112\n",
            "Epoch 29/100\n",
            "560/560 [==============================] - 1s 2ms/step - loss: 0.4230 - accuracy: 0.8071 - val_loss: 0.4208 - val_accuracy: 0.8112\n",
            "Epoch 30/100\n",
            "560/560 [==============================] - 1s 2ms/step - loss: 0.4186 - accuracy: 0.8140 - val_loss: 0.4198 - val_accuracy: 0.8133\n",
            "Epoch 31/100\n",
            "560/560 [==============================] - 1s 2ms/step - loss: 0.4353 - accuracy: 0.7996 - val_loss: 0.4187 - val_accuracy: 0.8121\n",
            "Epoch 32/100\n",
            "560/560 [==============================] - 1s 2ms/step - loss: 0.4106 - accuracy: 0.8179 - val_loss: 0.4177 - val_accuracy: 0.8146\n",
            "Epoch 33/100\n",
            "560/560 [==============================] - 1s 2ms/step - loss: 0.4090 - accuracy: 0.8235 - val_loss: 0.4166 - val_accuracy: 0.8133\n",
            "Epoch 34/100\n",
            "560/560 [==============================] - 1s 2ms/step - loss: 0.4019 - accuracy: 0.8218 - val_loss: 0.4153 - val_accuracy: 0.8133\n",
            "Epoch 35/100\n",
            "560/560 [==============================] - 1s 2ms/step - loss: 0.4267 - accuracy: 0.8058 - val_loss: 0.4136 - val_accuracy: 0.8142\n",
            "Epoch 36/100\n",
            "560/560 [==============================] - 1s 2ms/step - loss: 0.4118 - accuracy: 0.8207 - val_loss: 0.4115 - val_accuracy: 0.8171\n",
            "Epoch 37/100\n",
            "560/560 [==============================] - 1s 2ms/step - loss: 0.4030 - accuracy: 0.8224 - val_loss: 0.4094 - val_accuracy: 0.8179\n",
            "Epoch 38/100\n",
            "560/560 [==============================] - 1s 2ms/step - loss: 0.3953 - accuracy: 0.8267 - val_loss: 0.4068 - val_accuracy: 0.8208\n",
            "Epoch 39/100\n",
            "560/560 [==============================] - 1s 2ms/step - loss: 0.4082 - accuracy: 0.8193 - val_loss: 0.4042 - val_accuracy: 0.8250\n",
            "Epoch 40/100\n",
            "560/560 [==============================] - 1s 2ms/step - loss: 0.3953 - accuracy: 0.8226 - val_loss: 0.4017 - val_accuracy: 0.8279\n",
            "Epoch 41/100\n",
            "560/560 [==============================] - 1s 2ms/step - loss: 0.4052 - accuracy: 0.8255 - val_loss: 0.3988 - val_accuracy: 0.8325\n",
            "Epoch 42/100\n",
            "560/560 [==============================] - 1s 2ms/step - loss: 0.3901 - accuracy: 0.8307 - val_loss: 0.3957 - val_accuracy: 0.8329\n",
            "Epoch 43/100\n",
            "560/560 [==============================] - 1s 2ms/step - loss: 0.3992 - accuracy: 0.8239 - val_loss: 0.3926 - val_accuracy: 0.8363\n",
            "Epoch 44/100\n",
            "560/560 [==============================] - 1s 2ms/step - loss: 0.4032 - accuracy: 0.8192 - val_loss: 0.3895 - val_accuracy: 0.8392\n",
            "Epoch 45/100\n",
            "560/560 [==============================] - 1s 2ms/step - loss: 0.3734 - accuracy: 0.8421 - val_loss: 0.3866 - val_accuracy: 0.8421\n",
            "Epoch 46/100\n",
            "560/560 [==============================] - 1s 2ms/step - loss: 0.3882 - accuracy: 0.8356 - val_loss: 0.3833 - val_accuracy: 0.8458\n",
            "Epoch 47/100\n",
            "560/560 [==============================] - 1s 2ms/step - loss: 0.3763 - accuracy: 0.8400 - val_loss: 0.3803 - val_accuracy: 0.8496\n",
            "Epoch 48/100\n",
            "560/560 [==============================] - 1s 2ms/step - loss: 0.3833 - accuracy: 0.8349 - val_loss: 0.3773 - val_accuracy: 0.8533\n",
            "Epoch 49/100\n",
            "560/560 [==============================] - 1s 2ms/step - loss: 0.3714 - accuracy: 0.8425 - val_loss: 0.3747 - val_accuracy: 0.8533\n",
            "Epoch 50/100\n",
            "560/560 [==============================] - 1s 2ms/step - loss: 0.3818 - accuracy: 0.8423 - val_loss: 0.3722 - val_accuracy: 0.8550\n",
            "Epoch 51/100\n",
            "560/560 [==============================] - 1s 2ms/step - loss: 0.3691 - accuracy: 0.8462 - val_loss: 0.3702 - val_accuracy: 0.8546\n",
            "Epoch 52/100\n",
            "560/560 [==============================] - 1s 2ms/step - loss: 0.3781 - accuracy: 0.8383 - val_loss: 0.3680 - val_accuracy: 0.8550\n",
            "Epoch 53/100\n",
            "560/560 [==============================] - 1s 2ms/step - loss: 0.3590 - accuracy: 0.8479 - val_loss: 0.3659 - val_accuracy: 0.8562\n",
            "Epoch 54/100\n",
            "560/560 [==============================] - 1s 2ms/step - loss: 0.3766 - accuracy: 0.8419 - val_loss: 0.3640 - val_accuracy: 0.8575\n",
            "Epoch 55/100\n",
            "560/560 [==============================] - 1s 2ms/step - loss: 0.3700 - accuracy: 0.8488 - val_loss: 0.3624 - val_accuracy: 0.8592\n",
            "Epoch 56/100\n",
            "560/560 [==============================] - 1s 2ms/step - loss: 0.3659 - accuracy: 0.8530 - val_loss: 0.3607 - val_accuracy: 0.8604\n",
            "Epoch 57/100\n",
            "560/560 [==============================] - 1s 2ms/step - loss: 0.3625 - accuracy: 0.8527 - val_loss: 0.3589 - val_accuracy: 0.8604\n",
            "Epoch 58/100\n",
            "560/560 [==============================] - 1s 2ms/step - loss: 0.3676 - accuracy: 0.8441 - val_loss: 0.3574 - val_accuracy: 0.8608\n",
            "Epoch 59/100\n",
            "560/560 [==============================] - 1s 2ms/step - loss: 0.3529 - accuracy: 0.8544 - val_loss: 0.3563 - val_accuracy: 0.8608\n",
            "Epoch 60/100\n",
            "560/560 [==============================] - 1s 2ms/step - loss: 0.3651 - accuracy: 0.8451 - val_loss: 0.3554 - val_accuracy: 0.8604\n",
            "Epoch 61/100\n",
            "560/560 [==============================] - 1s 2ms/step - loss: 0.3580 - accuracy: 0.8532 - val_loss: 0.3540 - val_accuracy: 0.8617\n",
            "Epoch 62/100\n",
            "560/560 [==============================] - 1s 2ms/step - loss: 0.3647 - accuracy: 0.8520 - val_loss: 0.3530 - val_accuracy: 0.8621\n",
            "Epoch 63/100\n",
            "560/560 [==============================] - 1s 2ms/step - loss: 0.3569 - accuracy: 0.8567 - val_loss: 0.3522 - val_accuracy: 0.8617\n",
            "Epoch 64/100\n",
            "560/560 [==============================] - 1s 2ms/step - loss: 0.3417 - accuracy: 0.8620 - val_loss: 0.3515 - val_accuracy: 0.8612\n",
            "Epoch 65/100\n",
            "560/560 [==============================] - 1s 2ms/step - loss: 0.3587 - accuracy: 0.8516 - val_loss: 0.3505 - val_accuracy: 0.8617\n",
            "Epoch 66/100\n",
            "560/560 [==============================] - 1s 2ms/step - loss: 0.3481 - accuracy: 0.8582 - val_loss: 0.3500 - val_accuracy: 0.8625\n",
            "Epoch 67/100\n",
            "560/560 [==============================] - 1s 2ms/step - loss: 0.3443 - accuracy: 0.8605 - val_loss: 0.3494 - val_accuracy: 0.8621\n",
            "Epoch 68/100\n",
            "560/560 [==============================] - 1s 2ms/step - loss: 0.3588 - accuracy: 0.8473 - val_loss: 0.3487 - val_accuracy: 0.8621\n",
            "Epoch 69/100\n",
            "560/560 [==============================] - 1s 2ms/step - loss: 0.3511 - accuracy: 0.8585 - val_loss: 0.3481 - val_accuracy: 0.8617\n",
            "Epoch 70/100\n",
            "560/560 [==============================] - 1s 2ms/step - loss: 0.3444 - accuracy: 0.8513 - val_loss: 0.3476 - val_accuracy: 0.8608\n",
            "Epoch 71/100\n",
            "560/560 [==============================] - 1s 2ms/step - loss: 0.3599 - accuracy: 0.8495 - val_loss: 0.3469 - val_accuracy: 0.8600\n",
            "Epoch 72/100\n",
            "560/560 [==============================] - 1s 2ms/step - loss: 0.3420 - accuracy: 0.8633 - val_loss: 0.3467 - val_accuracy: 0.8600\n",
            "Epoch 73/100\n",
            "560/560 [==============================] - 1s 2ms/step - loss: 0.3621 - accuracy: 0.8489 - val_loss: 0.3460 - val_accuracy: 0.8608\n",
            "Epoch 74/100\n",
            "560/560 [==============================] - 1s 2ms/step - loss: 0.3536 - accuracy: 0.8494 - val_loss: 0.3458 - val_accuracy: 0.8617\n",
            "Epoch 75/100\n",
            "560/560 [==============================] - 1s 2ms/step - loss: 0.3523 - accuracy: 0.8525 - val_loss: 0.3455 - val_accuracy: 0.8617\n",
            "Epoch 76/100\n",
            "560/560 [==============================] - 1s 2ms/step - loss: 0.3528 - accuracy: 0.8529 - val_loss: 0.3449 - val_accuracy: 0.8600\n",
            "Epoch 77/100\n",
            "560/560 [==============================] - 1s 2ms/step - loss: 0.3512 - accuracy: 0.8577 - val_loss: 0.3447 - val_accuracy: 0.8617\n",
            "Epoch 78/100\n",
            "560/560 [==============================] - 1s 2ms/step - loss: 0.3390 - accuracy: 0.8608 - val_loss: 0.3445 - val_accuracy: 0.8608\n",
            "Epoch 79/100\n",
            "560/560 [==============================] - 1s 2ms/step - loss: 0.3443 - accuracy: 0.8573 - val_loss: 0.3443 - val_accuracy: 0.8617\n",
            "Epoch 80/100\n",
            "560/560 [==============================] - 1s 2ms/step - loss: 0.3531 - accuracy: 0.8585 - val_loss: 0.3438 - val_accuracy: 0.8604\n",
            "Epoch 81/100\n",
            "560/560 [==============================] - 1s 2ms/step - loss: 0.3499 - accuracy: 0.8568 - val_loss: 0.3438 - val_accuracy: 0.8604\n",
            "Epoch 82/100\n",
            "560/560 [==============================] - 1s 2ms/step - loss: 0.3428 - accuracy: 0.8591 - val_loss: 0.3434 - val_accuracy: 0.8604\n",
            "Epoch 83/100\n",
            "560/560 [==============================] - 1s 2ms/step - loss: 0.3522 - accuracy: 0.8527 - val_loss: 0.3433 - val_accuracy: 0.8604\n",
            "Epoch 84/100\n",
            "560/560 [==============================] - 1s 2ms/step - loss: 0.3523 - accuracy: 0.8492 - val_loss: 0.3429 - val_accuracy: 0.8600\n",
            "Epoch 85/100\n",
            "560/560 [==============================] - 1s 2ms/step - loss: 0.3486 - accuracy: 0.8543 - val_loss: 0.3428 - val_accuracy: 0.8596\n",
            "Epoch 86/100\n",
            "560/560 [==============================] - 1s 2ms/step - loss: 0.3421 - accuracy: 0.8598 - val_loss: 0.3429 - val_accuracy: 0.8608\n",
            "Epoch 87/100\n",
            "560/560 [==============================] - 1s 2ms/step - loss: 0.3474 - accuracy: 0.8544 - val_loss: 0.3425 - val_accuracy: 0.8608\n",
            "Epoch 88/100\n",
            "560/560 [==============================] - 1s 2ms/step - loss: 0.3381 - accuracy: 0.8617 - val_loss: 0.3421 - val_accuracy: 0.8596\n",
            "Epoch 89/100\n",
            "560/560 [==============================] - 1s 2ms/step - loss: 0.3388 - accuracy: 0.8616 - val_loss: 0.3421 - val_accuracy: 0.8608\n",
            "Epoch 90/100\n",
            "560/560 [==============================] - 1s 2ms/step - loss: 0.3598 - accuracy: 0.8550 - val_loss: 0.3418 - val_accuracy: 0.8608\n",
            "Epoch 91/100\n",
            "560/560 [==============================] - 1s 2ms/step - loss: 0.3441 - accuracy: 0.8590 - val_loss: 0.3418 - val_accuracy: 0.8596\n",
            "Epoch 92/100\n",
            "560/560 [==============================] - 1s 2ms/step - loss: 0.3273 - accuracy: 0.8608 - val_loss: 0.3425 - val_accuracy: 0.8608\n",
            "Epoch 93/100\n",
            "560/560 [==============================] - 1s 2ms/step - loss: 0.3601 - accuracy: 0.8555 - val_loss: 0.3417 - val_accuracy: 0.8617\n",
            "Epoch 94/100\n",
            "560/560 [==============================] - 1s 2ms/step - loss: 0.3401 - accuracy: 0.8595 - val_loss: 0.3414 - val_accuracy: 0.8612\n",
            "Epoch 95/100\n",
            "560/560 [==============================] - 1s 2ms/step - loss: 0.3577 - accuracy: 0.8500 - val_loss: 0.3410 - val_accuracy: 0.8612\n",
            "Epoch 96/100\n",
            "560/560 [==============================] - 1s 2ms/step - loss: 0.3361 - accuracy: 0.8683 - val_loss: 0.3409 - val_accuracy: 0.8612\n",
            "Epoch 97/100\n",
            "560/560 [==============================] - 1s 2ms/step - loss: 0.3451 - accuracy: 0.8642 - val_loss: 0.3409 - val_accuracy: 0.8604\n",
            "Epoch 98/100\n",
            "560/560 [==============================] - 1s 2ms/step - loss: 0.3390 - accuracy: 0.8556 - val_loss: 0.3409 - val_accuracy: 0.8600\n",
            "Epoch 99/100\n",
            "560/560 [==============================] - 1s 2ms/step - loss: 0.3410 - accuracy: 0.8655 - val_loss: 0.3407 - val_accuracy: 0.8617\n",
            "Epoch 100/100\n",
            "560/560 [==============================] - 1s 2ms/step - loss: 0.3412 - accuracy: 0.8588 - val_loss: 0.3405 - val_accuracy: 0.8621\n"
          ],
          "name": "stdout"
        }
      ]
    },
    {
      "cell_type": "code",
      "metadata": {
        "id": "4-8u_PiQebX8",
        "colab": {
          "base_uri": "https://localhost:8080/"
        },
        "outputId": "60a64f03-4c91-4703-aa4e-8b1830ac6953"
      },
      "source": [
        "y_pred = classifier.predict(x_test)\n",
        "y_pred = y_pred>0.5\n",
        "\n",
        "from sklearn.metrics import confusion_matrix\n",
        "cm = confusion_matrix(y_test,y_pred)\n",
        "\n",
        "from sklearn.metrics import accuracy_score\n",
        "score = accuracy_score(y_test, y_pred)\n",
        "\n",
        "print(cm, score)"
      ],
      "execution_count": null,
      "outputs": [
        {
          "output_type": "stream",
          "text": [
            "[[1534   73]\n",
            " [ 213  180]] 0.857\n"
          ],
          "name": "stdout"
        }
      ]
    },
    {
      "cell_type": "code",
      "metadata": {
        "id": "lSrMDqhcYAzB"
      },
      "source": [
        "from keras.wrappers.scikit_learn import KerasClassifier\n",
        "from sklearn.model_selection import GridSearchCV"
      ],
      "execution_count": null,
      "outputs": []
    },
    {
      "cell_type": "code",
      "metadata": {
        "id": "IRrcbpOGT8hx"
      },
      "source": [
        "def create_model(layers, activation):\n",
        "  model = Sequential()\n",
        "  for i,nodes in enumerate(layers):\n",
        "    if i==0:\n",
        "      model.add(Dense(nodes, input_dim=x_train.shape[1], activation=activation))\n",
        "      model.add(Dropout(0.3))\n",
        "    else:\n",
        "      model.add(Dense(nodes, activation=activation))\n",
        "      model.add(Dropout=0.3)\n",
        "  model.add(Dense(1,kernel_initializer='glorot_uniform', activation='sigmoid'))\n",
        "  model.compile(optimizer='adam', loss='binary_crossentropy', metrics=['accuracy'])\n",
        "  return model"
      ],
      "execution_count": 33,
      "outputs": []
    },
    {
      "cell_type": "code",
      "metadata": {
        "id": "F5vzmVzBWVFU"
      },
      "source": [
        "model= KerasClassifier(build_fn=create_model, verbose=0)"
      ],
      "execution_count": 34,
      "outputs": []
    },
    {
      "cell_type": "code",
      "metadata": {
        "id": "KfVonbXxWn-t"
      },
      "source": [
        "layers=[[20],[40,20],[45,30,15]]\n",
        "activations=['sigmoid', 'relu']\n",
        "param_grid = dict(layers=layers, activation = activations, batch_size=[128,256], epochs=[30])\n",
        "grid = GridSearchCV(estimator = model,  param_grid= param_grid, cv=5)"
      ],
      "execution_count": 35,
      "outputs": []
    },
    {
      "cell_type": "code",
      "metadata": {
        "colab": {
          "base_uri": "https://localhost:8080/"
        },
        "id": "L72i_dYbXaQq",
        "outputId": "463262a1-c24d-4ab6-ac7b-da0dc13561ca"
      },
      "source": [
        "grid_result = grid.fit(x_train,y_train)"
      ],
      "execution_count": 36,
      "outputs": [
        {
          "output_type": "stream",
          "text": [
            "/usr/local/lib/python3.7/dist-packages/sklearn/model_selection/_validation.py:536: FitFailedWarning: Estimator fit failed. The score on this train-test partition for these parameters will be set to nan. Details: \n",
            "TypeError: add() got an unexpected keyword argument 'Dropout'\n",
            "\n",
            "  FitFailedWarning)\n"
          ],
          "name": "stderr"
        }
      ]
    },
    {
      "cell_type": "code",
      "metadata": {
        "id": "TeRKGnuVXf23",
        "colab": {
          "base_uri": "https://localhost:8080/"
        },
        "outputId": "3619b552-5d71-469c-d434-b4bcbdaddf59"
      },
      "source": [
        "[grid_result.best_score_, grid_result.best_params_]"
      ],
      "execution_count": 37,
      "outputs": [
        {
          "output_type": "execute_result",
          "data": {
            "text/plain": [
              "[0.8462499856948853,\n",
              " {'activation': 'relu', 'batch_size': 128, 'epochs': 30, 'layers': [20]}]"
            ]
          },
          "metadata": {
            "tags": []
          },
          "execution_count": 37
        }
      ]
    },
    {
      "cell_type": "code",
      "metadata": {
        "id": "2TSVzrGaY9II"
      },
      "source": [
        ""
      ],
      "execution_count": null,
      "outputs": []
    }
  ]
}